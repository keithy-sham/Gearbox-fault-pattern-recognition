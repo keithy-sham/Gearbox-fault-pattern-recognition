{
 "cells": [
  {
   "cell_type": "code",
   "execution_count": 1,
   "metadata": {},
   "outputs": [],
   "source": [
    "import numpy as np\n",
    "import pandas as pd\n",
    "from nptdms import TdmsFile as td\n",
    "import matplotlib.pyplot as plt\n",
    "\n",
    "%matplotlib inline\n",
    "%config InlineBackend.figure_format = 'svg'#将图片保存为矢量图\n",
    "\n",
    "plt.rcParams['font.sans-serif']=['SimHei'] #用来正常显示中文\n",
    "plt.rcParams['axes.unicode_minus']=False  #用来正常显示负号"
   ]
  },
  {
   "cell_type": "code",
   "execution_count": 24,
   "metadata": {},
   "outputs": [],
   "source": [
    "path = 'C:/Users/shamrockyj/Desktop/DDS数据/平行中间轴轴承/'"
   ]
  },
  {
   "cell_type": "code",
   "execution_count": 25,
   "metadata": {},
   "outputs": [],
   "source": [
    "filename1 = path+\"57_44_ball_bear_output_1_22-03-18_1051.tdms\"\n",
    "tf1 = td.read(filename1)\n",
    "filename2 = path+\"57_44_combination_bear_output_1_22-03-21_1118.tdms\"\n",
    "tf2 = td.read(filename2)\n",
    "filename3 = path+\"57_44_inner_bear_output_1_22-03-15_1619.tdms\"\n",
    "tf3 = td.read(filename3)\n",
    "filename4 = path+\"57_44_outer_bear_output_1_22-03-16_1511.tdms\"\n",
    "tf4 = td.read(filename4)\n",
    "# filename5 = \"C:/Users/shamrockyj/Desktop/DDS数据/平行中间轴轴承/57_44_outer_bear_output_1_22-03-16_1511.tdms\"\n",
    "# tf5 = td.read(filename5)\n",
    "# filename6 = \"C:/Users/shamrockyj/Desktop/DDS数据/36T/57_44_worn_36T_1_22-02-23_1104.tdms\"\n",
    "# tf6 = td.read(filename6)"
   ]
  },
  {
   "cell_type": "code",
   "execution_count": 26,
   "metadata": {},
   "outputs": [],
   "source": [
    "df1 = tf1.as_dataframe()\n",
    "df2 = tf2.as_dataframe()\n",
    "df3 = tf3.as_dataframe()\n",
    "df4 = tf4.as_dataframe()\n",
    "# df5 = tf5.as_dataframe()\n",
    "# df6 = tf6.as_dataframe()"
   ]
  },
  {
   "cell_type": "code",
   "execution_count": 27,
   "metadata": {},
   "outputs": [],
   "source": [
    "df1.columns = ['F','A1','A2','A3','A4','A5','A6','A7']\n",
    "df1 = df1.drop(columns = 'A7')\n",
    "df2.columns = ['F','A1','A2','A3','A4','A5','A6','A7']\n",
    "df2 = df2.drop(columns = 'A7')\n",
    "df3.columns = ['F','A1','A2','A3','A4','A5','A6','A7']\n",
    "df3 = df3.drop(columns = 'A7')\n",
    "df4.columns = ['F','A1','A2','A3','A4','A5','A6','A7']\n",
    "df4 = df4.drop(columns = 'A7')\n",
    "# df5.columns = ['F','A1','A2','A3','A4','A5','A6','A7']\n",
    "# df5 = df5.drop(columns = 'A7')\n",
    "# df6.columns = ['F','A1','A2','A3','A4','A5','A6','A7']\n",
    "# df6 = df6.drop(columns = 'A7')"
   ]
  },
  {
   "cell_type": "code",
   "execution_count": 28,
   "metadata": {},
   "outputs": [],
   "source": [
    "path2 = 'C:/Users/shamrockyj/Desktop/毕设：航空发动机智能运维与健康管理/毕业论文/故障数据/实验数据集/轴承/'"
   ]
  },
  {
   "cell_type": "code",
   "execution_count": 29,
   "metadata": {},
   "outputs": [],
   "source": [
    "df1.to_csv(path2+'57_44_滚动体.csv')\n",
    "df2.to_csv(path2+'57_44_联合.csv')\n",
    "df3.to_csv(path2+'57_44_内圈.csv')\n",
    "df4.to_csv(path2+'57_44_外圈.csv')"
   ]
  },
  {
   "cell_type": "code",
   "execution_count": null,
   "metadata": {},
   "outputs": [],
   "source": []
  },
  {
   "cell_type": "code",
   "execution_count": null,
   "metadata": {},
   "outputs": [],
   "source": []
  }
 ],
 "metadata": {
  "kernelspec": {
   "display_name": "Python 3",
   "language": "python",
   "name": "python3"
  },
  "language_info": {
   "codemirror_mode": {
    "name": "ipython",
    "version": 3
   },
   "file_extension": ".py",
   "mimetype": "text/x-python",
   "name": "python",
   "nbconvert_exporter": "python",
   "pygments_lexer": "ipython3",
   "version": "3.7.4"
  }
 },
 "nbformat": 4,
 "nbformat_minor": 2
}
